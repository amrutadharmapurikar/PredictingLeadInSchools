{
 "cells": [
  {
   "cell_type": "code",
   "execution_count": 12,
   "id": "hourly-matthew",
   "metadata": {},
   "outputs": [],
   "source": [
    "import pandas as pd"
   ]
  },
  {
   "cell_type": "code",
   "execution_count": 13,
   "id": "virgin-projector",
   "metadata": {},
   "outputs": [],
   "source": [
    "data = pd.read_csv('/Users/23amrutad/Downloads/NH_LEAD.csv')"
   ]
  },
  {
   "cell_type": "code",
   "execution_count": 14,
   "id": "expired-secondary",
   "metadata": {
    "scrolled": false
   },
   "outputs": [
    {
     "name": "stdout",
     "output_type": "stream",
     "text": [
      "      NHDES Facility ID              Facility Name           Address  \\\n",
      "0             SCH-22960  ACWORTH ELEMENTARY SCHOOL  TURKEY SHOOT RD.   \n",
      "1             SCH-22960  ACWORTH ELEMENTARY SCHOOL  TURKEY SHOOT RD.   \n",
      "2             SCH-22960  ACWORTH ELEMENTARY SCHOOL  TURKEY SHOOT RD.   \n",
      "3             SCH-22960  ACWORTH ELEMENTARY SCHOOL  TURKEY SHOOT RD.   \n",
      "4             SCH-22960  ACWORTH ELEMENTARY SCHOOL  TURKEY SHOOT RD.   \n",
      "...                 ...                        ...               ...   \n",
      "23250         SCH-22420           BREWSTER ACADEMY    80 ACADEMY DR.   \n",
      "23251         SCH-22420           BREWSTER ACADEMY    80 ACADEMY DR.   \n",
      "23252         SCH-22420           BREWSTER ACADEMY    80 ACADEMY DR.   \n",
      "23253         SCH-22420           BREWSTER ACADEMY    80 ACADEMY DR.   \n",
      "23254         SCH-22420           BREWSTER ACADEMY    80 ACADEMY DR.   \n",
      "\n",
      "            Town    County State  Sample ID        Date      Time  \\\n",
      "0        ACWORTH  SULLIVAN    NH  195409.01   5/13/2019  10:30 PM   \n",
      "1        ACWORTH  SULLIVAN    NH  195409.02   5/13/2019  10:35 PM   \n",
      "2        ACWORTH  SULLIVAN    NH  195409.03   5/13/2019  10:40 PM   \n",
      "3        ACWORTH  SULLIVAN    NH  195409.04   5/13/2019  10:45 PM   \n",
      "4        ACWORTH  SULLIVAN    NH  195409.05   5/13/2019  10:45 PM   \n",
      "...          ...       ...   ...        ...         ...       ...   \n",
      "23250  WOLFEBORO   CARROLL    NH  189425.07  11/19/2018   7:10 AM   \n",
      "23251  WOLFEBORO   CARROLL    NH  189425.08  11/19/2018   7:12 AM   \n",
      "23252  WOLFEBORO   CARROLL    NH  189425.09  11/19/2018   7:15 AM   \n",
      "23253  WOLFEBORO   CARROLL    NH   189425.1  11/19/2018   7:23 AM   \n",
      "23254  WOLFEBORO   CARROLL    NH  189425.11  11/19/2018   7:20 AM   \n",
      "\n",
      "                                Sample Location Comments Parameter/Analyte  \\\n",
      "0                                 001  KITCHEN WASH SINK              LEAD   \n",
      "1                           003  ROOM 3 SINK (GRADE 3-4)              LEAD   \n",
      "2                         004  ROOM 2 SINK (MIDDLE ROOM)              LEAD   \n",
      "3                          005  VESTIBULE B SINK ON LEFT              LEAD   \n",
      "4                         006  VESTIBULE B SINK ON RIGHT              LEAD   \n",
      "...                                                  ...               ...   \n",
      "23250  LIBRARY (CHILDRENS AREA) HALSEY TAYLER HYRDOBO...              LEAD   \n",
      "23251             ADMISSIONS HOT WATER DISPENSER ON SINK              LEAD   \n",
      "23252               FRESHMAN BUBBLE (STAINLESS STEEL WF)              LEAD   \n",
      "23253  LOWER LEVEL HALLWAY OUTSIDE BATHROOMS PARKING ...              LEAD   \n",
      "23254  HALLWAY OUTSIDE BATHROOMS ON GROUND FLOOR (STA...              LEAD   \n",
      "\n",
      "       Result       Units Result Comments  \n",
      "0      5.0000  UG/L (PPB)             NaN  \n",
      "1      4.4000  UG/L (PPB)             NaN  \n",
      "2      4.5000  UG/L (PPB)             NaN  \n",
      "3          ND  UG/L (PPB)             NaN  \n",
      "4          ND  UG/L (PPB)             NaN  \n",
      "...       ...         ...             ...  \n",
      "23250      ND  UG/L (PPB)             NaN  \n",
      "23251      ND  UG/L (PPB)             NaN  \n",
      "23252      ND  UG/L (PPB)             NaN  \n",
      "23253      ND  UG/L (PPB)             NaN  \n",
      "23254      ND  UG/L (PPB)             NaN  \n",
      "\n",
      "[23255 rows x 14 columns]\n"
     ]
    }
   ],
   "source": [
    "print(data)"
   ]
  },
  {
   "cell_type": "code",
   "execution_count": 15,
   "id": "veterinary-federation",
   "metadata": {},
   "outputs": [],
   "source": [
    "names = []"
   ]
  },
  {
   "cell_type": "code",
   "execution_count": 17,
   "id": "qualified-marine",
   "metadata": {},
   "outputs": [
    {
     "ename": "TypeError",
     "evalue": "unsupported operand type(s) for +: 'float' and 'str'",
     "output_type": "error",
     "traceback": [
      "\u001b[0;31m---------------------------------------------------------------------------\u001b[0m",
      "\u001b[0;31mTypeError\u001b[0m                                 Traceback (most recent call last)",
      "\u001b[0;32m<ipython-input-17-f3562bc5c7d2>\u001b[0m in \u001b[0;36m<module>\u001b[0;34m\u001b[0m\n\u001b[1;32m      1\u001b[0m \u001b[0;32mfor\u001b[0m \u001b[0mind\u001b[0m \u001b[0;32min\u001b[0m \u001b[0mdata\u001b[0m\u001b[0;34m.\u001b[0m\u001b[0mindex\u001b[0m\u001b[0;34m:\u001b[0m\u001b[0;34m\u001b[0m\u001b[0;34m\u001b[0m\u001b[0m\n\u001b[0;32m----> 2\u001b[0;31m     \u001b[0maddress\u001b[0m \u001b[0;34m=\u001b[0m \u001b[0mdata\u001b[0m\u001b[0;34m[\u001b[0m\u001b[0;34m\"Address\"\u001b[0m\u001b[0;34m]\u001b[0m\u001b[0;34m[\u001b[0m\u001b[0mind\u001b[0m\u001b[0;34m]\u001b[0m \u001b[0;34m+\u001b[0m \u001b[0;34m\"      \"\u001b[0m \u001b[0;34m+\u001b[0m \u001b[0mdata\u001b[0m\u001b[0;34m[\u001b[0m\u001b[0;34m\"Town\"\u001b[0m\u001b[0;34m]\u001b[0m\u001b[0;34m[\u001b[0m\u001b[0mind\u001b[0m\u001b[0;34m]\u001b[0m \u001b[0;34m+\u001b[0m \u001b[0;34m\"       \"\u001b[0m \u001b[0;34m+\u001b[0m \u001b[0mdata\u001b[0m\u001b[0;34m[\u001b[0m\u001b[0;34m\"State\"\u001b[0m\u001b[0;34m]\u001b[0m\u001b[0;34m[\u001b[0m\u001b[0mind\u001b[0m\u001b[0;34m]\u001b[0m\u001b[0;34m\u001b[0m\u001b[0;34m\u001b[0m\u001b[0m\n\u001b[0m\u001b[1;32m      3\u001b[0m     \u001b[0mnames\u001b[0m\u001b[0;34m.\u001b[0m\u001b[0mappend\u001b[0m\u001b[0;34m(\u001b[0m\u001b[0maddress\u001b[0m\u001b[0;34m)\u001b[0m\u001b[0;34m\u001b[0m\u001b[0;34m\u001b[0m\u001b[0m\n",
      "\u001b[0;31mTypeError\u001b[0m: unsupported operand type(s) for +: 'float' and 'str'"
     ]
    }
   ],
   "source": [
    "for ind in data.index:\n",
    "    address = data[\"Address\"][ind] + \"    \" + data[\"Town\"][ind] + \"     \" + data[\"State\"][ind]\n",
    "    names.append(address)"
   ]
  },
  {
   "cell_type": "code",
   "execution_count": 6,
   "id": "illegal-beach",
   "metadata": {},
   "outputs": [],
   "source": [
    "names = list(set(names))"
   ]
  },
  {
   "cell_type": "code",
   "execution_count": 9,
   "id": "accomplished-flesh",
   "metadata": {},
   "outputs": [],
   "source": [
    "f = open('/Users/23amrutad/Downloads/addresses.csv', 'w')"
   ]
  },
  {
   "cell_type": "code",
   "execution_count": 10,
   "id": "acting-subsection",
   "metadata": {},
   "outputs": [],
   "source": [
    "for name in names:\n",
    "    f.write(name + \"\\n\")"
   ]
  },
  {
   "cell_type": "code",
   "execution_count": null,
   "id": "light-inspiration",
   "metadata": {},
   "outputs": [],
   "source": []
  }
 ],
 "metadata": {
  "kernelspec": {
   "display_name": "Python 3",
   "language": "python",
   "name": "python3"
  },
  "language_info": {
   "codemirror_mode": {
    "name": "ipython",
    "version": 3
   },
   "file_extension": ".py",
   "mimetype": "text/x-python",
   "name": "python",
   "nbconvert_exporter": "python",
   "pygments_lexer": "ipython3",
   "version": "3.7.9"
  }
 },
 "nbformat": 4,
 "nbformat_minor": 5
}
