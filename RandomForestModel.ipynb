{
 "cells": [
  {
   "cell_type": "code",
   "execution_count": 9,
   "id": "distinct-housing",
   "metadata": {},
   "outputs": [],
   "source": [
    "import pickle\n",
    "from sklearn.ensemble import RandomForestClassifier\n",
    "from sklearn.datasets import make_classification\n",
    "from sklearn.dummy import DummyClassifier\n",
    "from sklearn.model_selection import train_test_split\n",
    "from sklearn.metrics import roc_auc_score\n",
    "#from sklearn.cross_validation import StratifiedShuffleSplit\n",
    "from sklearn.metrics import accuracy_score, f1_score, precision_score, recall_score, classification_report, confusion_matrix\n",
    "import numpy as np\n",
    "import pandas as pd"
   ]
  },
  {
   "cell_type": "code",
   "execution_count": 3,
   "id": "sealed-junior",
   "metadata": {},
   "outputs": [],
   "source": [
    "'''\n",
    "this function checks if a row is valid: meaning that the \n",
    "latitude, longitude, tract number, and min_lead_equantity are all valid\n",
    "'''\n",
    "def row_is_valid(feature_row):\n",
    "    if feature_row['min_lead_quantity'] == -1:\n",
    "        return False\n",
    "    if feature_row['lat'] == 'unknown' or feature_row['lat'] == -1:\n",
    "        return False\n",
    "    if feature_row['long'] == 'unknown' or feature_row['long'] == -1:\n",
    "        return False\n",
    "    if feature_row['tract'] == 'unknown' or feature_row['tract'] == -1:\n",
    "        return False\n",
    "    return True\n",
    "\n",
    "# loading the complete data (including water data, census data, school and lead data) from the pickle file\n",
    "name_map = pickle.load(open(\"/Users/23amrutad/Projects/LeadProj/ProjectData/final_data.pkl\", 'rb'))\n",
    "\n",
    "# the features and labels lists for the model classification\n",
    "all_features = []\n",
    "labels = []\n",
    "\n",
    "# for every valid row, adding the features (every column except for the min_lead_quantity) to all_features\n",
    "# if the min_lead_quantity is greater than 5.0, add 1 to labels; otherwise, add 0\n",
    "for k, v in name_map.items():\n",
    "    if row_is_valid(v):\n",
    "        features = []\n",
    "        if v['min_lead_quantity'] >= 5.0:\n",
    "            labels.append(1)\n",
    "        else:\n",
    "            labels.append(0)\n",
    "        for f in v.keys():\n",
    "            if f != 'addr' and f != 'min_lead_quantity':\n",
    "                features.append(v[f])\n",
    "                if type(v[f]) == type(''):\n",
    "                    print(v[f])\n",
    "        all_features.append(features)"
   ]
  },
  {
   "cell_type": "code",
   "execution_count": null,
   "id": "solar-theorem",
   "metadata": {},
   "outputs": [],
   "source": []
  },
  {
   "cell_type": "code",
   "execution_count": 25,
   "id": "matched-preserve",
   "metadata": {},
   "outputs": [],
   "source": [
    "import csv"
   ]
  },
  {
   "cell_type": "code",
   "execution_count": 27,
   "id": "defensive-publicity",
   "metadata": {},
   "outputs": [],
   "source": [
    "distance_matrix = open('/Users/23amrutad/Projects/LeadProj/ProjectData/distance_between_schools.csv', 'r')"
   ]
  },
  {
   "cell_type": "code",
   "execution_count": 28,
   "id": "labeled-party",
   "metadata": {},
   "outputs": [
    {
     "data": {
      "text/plain": [
       "<_io.TextIOWrapper name='/Users/23amrutad/Projects/LeadProj/ProjectData/distance_between_schools.csv' mode='r' encoding='UTF-8'>"
      ]
     },
     "execution_count": 28,
     "metadata": {},
     "output_type": "execute_result"
    }
   ],
   "source": [
    "distance_matrix"
   ]
  },
  {
   "cell_type": "code",
   "execution_count": 29,
   "id": "equivalent-hebrew",
   "metadata": {},
   "outputs": [
    {
     "name": "stdout",
     "output_type": "stream",
     "text": [
      "<class '_io.TextIOWrapper'>\n"
     ]
    }
   ],
   "source": [
    "print(type(distance_matrix))"
   ]
  },
  {
   "cell_type": "code",
   "execution_count": null,
   "id": "expected-limitation",
   "metadata": {},
   "outputs": [],
   "source": []
  },
  {
   "cell_type": "code",
   "execution_count": 22,
   "id": "therapeutic-illness",
   "metadata": {},
   "outputs": [],
   "source": [
    "# this is the random forest model from scikit-learn\n",
    "\n",
    "#X, y = make_classification(n_samples=1000, n_features=4, n_informative=2, n_redundant=0, random_state=0, shuffle=False)\n",
    "# this is the random forest model from scikit-learn\n",
    "\n",
    "#X, y = make_classification(n_samples=1000, n_features=4, n_informative=2, n_redundant=0, random_state=0, shuffle=False)\n",
    "X = np.array(all_features)\n",
    "y = np.array(labels)\n",
    "\n",
    "results = []\n",
    "\n",
    "for j in range(1, 20):\n",
    "    X_train, X_test, y_train, y_test = train_test_split(X, y, test_size=0.30, random_state=j)\n",
    "    maxf1 = 0\n",
    "    for i in range(1, 333):\n",
    "        clf = RandomForestClassifier(max_depth=None, random_state=1, n_estimators = 3*i)\n",
    "        dummy_clf = DummyClassifier(strategy=\"uniform\")\n",
    "        dummy_clf.fit(X_train, y_train)\n",
    "        clf.fit(X_train, y_train)\n",
    "        y_pred = clf.predict(X_test)\n",
    "        y_pred_dummy = dummy_clf.predict(X_test)\n",
    "        score = f1_score(y_test, y_pred)\n",
    "        score_dummy = f1_score(y_test, y_pred_dummy)\n",
    "        if score > maxf1:\n",
    "            maxf1 = score\n",
    "        print((3*i, \" -- \",  maxf1, \" -- \", score, \" -- \", score_dummy))\n",
    "        results.append([j, 3*i, score, score_dummy])\n",
    "\n"
   ]
  }
 ],
 "metadata": {
  "kernelspec": {
   "display_name": "Python 3 (ipykernel)",
   "language": "python",
   "name": "python3"
  },
  "language_info": {
   "codemirror_mode": {
    "name": "ipython",
    "version": 3
   },
   "file_extension": ".py",
   "mimetype": "text/x-python",
   "name": "python",
   "nbconvert_exporter": "python",
   "pygments_lexer": "ipython3",
   "version": "3.9.7"
  }
 },
 "nbformat": 4,
 "nbformat_minor": 5
}
