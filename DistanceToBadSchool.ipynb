{
 "cells": [
  {
   "cell_type": "code",
   "execution_count": 6,
   "id": "killing-stuff",
   "metadata": {},
   "outputs": [],
   "source": [
    "from math import cos, asin, sqrt, pi\n",
    "def distance(lat1, lon1, lat2, lon2):\n",
    "    p = pi/180\n",
    "    a = 0.5 - cos((lat2-lat1)*p)/2 + cos(lat1*p) * cos(lat2*p) * (1-cos((lon2-lon1)*p))/2\n",
    "    return 12742 * asin(sqrt(a))"
   ]
  },
  {
   "cell_type": "code",
   "execution_count": 19,
   "id": "demanding-glossary",
   "metadata": {},
   "outputs": [],
   "source": [
    "pairs = [[43.03421, -71.19318], [43.04753, -71.1801], [42.88376, -71.32412], [43.45466, -71.22175], [42.86509, -71.62556],\n",
    "        [42.81137, -71.59191], [42.87729, -71.32152], [42.88376, -71.32412], [43.21433, -70.90501], [43.16016, -70.85575],\n",
    "        [43.04287, -71.07534], [43.04455, -71.07689], [43.36216, -71.13122], [44.23076, -71.75304], [43.4558, -71.63794],\n",
    "        [42.93592, -70.84056], [43.69917, -72.28403], [44.02731, -72.06848], [43.2013, -71.63088], [43.54983, -71.45647],\n",
    "        [44.49185, -71.57129], [42.88185, -71.78622], [44.04228, -71.67268], [44.30747, -71.77733], [42.91531, -71.38879],\n",
    "        [42.86741, -71.49806], [42.83787, -71.66784], [43.40908, -70.98877], [43.41022, -70.99045], [43.40856, -70.99097],\n",
    "        [42.74407, -71.50669], [42.7689, -71.47529], [42.75199, -71.47397], [42.77609, -71.48828], [42.70251, -71.51787],\n",
    "        [42.97824, -71.68837], [43.10655, -70.82913], [43.07456, -70.94511], [43.07228, -70.95142], [43.37556, -72.17835],\n",
    "        [43.6749, -71.12598], [43.30673, -71.32254], [43.03992, -71.17882], [43.03421, -71.19318], [43.04753, -71.1801],\n",
    "        [42.74424, -72.22104], [42.79061, -71.2179], [42.87934, -70.85144], [42.7919, -71.83196], [43.44178, -71.60109],\n",
    "        [42.84486, -71.73416], [42.81971, -71.2547], [42.77632, -71.31592]]"
   ]
  },
  {
   "cell_type": "code",
   "execution_count": 30,
   "id": "solid-guide",
   "metadata": {},
   "outputs": [],
   "source": [
    "def distance_to_bad_school(lat, lon):\n",
    "    min_dist = None\n",
    "    for pair in pairs:\n",
    "        d = distance(lat, lon, pair[0], pair[1])\n",
    "        if min_dist == None:\n",
    "            min_dist = d\n",
    "        else:\n",
    "            min_dist = min(min_dist, d)\n",
    "    return min_dist"
   ]
  },
  {
   "cell_type": "code",
   "execution_count": 31,
   "id": "amended-invasion",
   "metadata": {},
   "outputs": [
    {
     "name": "stdout",
     "output_type": "stream",
     "text": [
      "30.147516151771363\n"
     ]
    }
   ],
   "source": [
    "print(distance_to_bad_school(43.11154, -72.01142))"
   ]
  },
  {
   "cell_type": "code",
   "execution_count": 33,
   "id": "engaged-central",
   "metadata": {},
   "outputs": [],
   "source": [
    "a = open(\"/Users/23amrutad/Projects/LeadProj/ProjectData/final_data.pkl\", 'rb')\n",
    "import pickle"
   ]
  },
  {
   "cell_type": "code",
   "execution_count": 34,
   "id": "crazy-louisiana",
   "metadata": {},
   "outputs": [],
   "source": [
    "data_dict = pickle.load(a)"
   ]
  },
  {
   "cell_type": "code",
   "execution_count": 51,
   "id": "frozen-christmas",
   "metadata": {},
   "outputs": [],
   "source": [
    "for k, v in data_dict.items():\n",
    "    v['dist_from_lead_school'] = distance_to_bad_school((v['lat']), (v['long']))"
   ]
  },
  {
   "cell_type": "code",
   "execution_count": 37,
   "id": "pregnant-herald",
   "metadata": {},
   "outputs": [],
   "source": [
    "keys = data_dict.keys()"
   ]
  },
  {
   "cell_type": "code",
   "execution_count": 39,
   "id": "compliant-matthew",
   "metadata": {},
   "outputs": [],
   "source": [
    "v = data_dict['ACWORTH ELEMENTARY SCHOOL']"
   ]
  },
  {
   "cell_type": "code",
   "execution_count": 45,
   "id": "connected-accent",
   "metadata": {},
   "outputs": [
    {
     "data": {
      "text/plain": [
       "float"
      ]
     },
     "execution_count": 45,
     "metadata": {},
     "output_type": "execute_result"
    }
   ],
   "source": [
    "type(v['long'])"
   ]
  },
  {
   "cell_type": "code",
   "execution_count": 52,
   "id": "careful-marks",
   "metadata": {},
   "outputs": [],
   "source": [
    "dbfile = open(\"/Users/23amrutad/Projects/LeadProj/ProjectData/final_data.pkl\", 'wb')\n",
    "pickle.dump(data_dict, dbfile)\n",
    "dbfile.close()"
   ]
  },
  {
   "cell_type": "code",
   "execution_count": null,
   "id": "given-sierra",
   "metadata": {},
   "outputs": [],
   "source": []
  }
 ],
 "metadata": {
  "kernelspec": {
   "display_name": "Python 3",
   "language": "python",
   "name": "python3"
  },
  "language_info": {
   "codemirror_mode": {
    "name": "ipython",
    "version": 3
   },
   "file_extension": ".py",
   "mimetype": "text/x-python",
   "name": "python",
   "nbconvert_exporter": "python",
   "pygments_lexer": "ipython3",
   "version": "3.7.9"
  }
 },
 "nbformat": 4,
 "nbformat_minor": 5
}
